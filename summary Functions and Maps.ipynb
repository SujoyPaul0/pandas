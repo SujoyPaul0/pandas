{
 "cells": [
  {
   "cell_type": "code",
   "execution_count": 2,
   "metadata": {},
   "outputs": [],
   "source": [
    "import pandas as pd\n",
    "pd.set_option('display.max_rows', 5)\n",
    "import numpy as np\n",
    "reviews = pd.read_csv(\"C:/Github/Pandas/pandas/winemag-data_first150k.csv\", index_col = 0)"
   ]
  },
  {
   "cell_type": "code",
   "execution_count": 2,
   "metadata": {},
   "outputs": [
    {
     "data": {
      "text/html": [
       "<div>\n",
       "<style scoped>\n",
       "    .dataframe tbody tr th:only-of-type {\n",
       "        vertical-align: middle;\n",
       "    }\n",
       "\n",
       "    .dataframe tbody tr th {\n",
       "        vertical-align: top;\n",
       "    }\n",
       "\n",
       "    .dataframe thead th {\n",
       "        text-align: right;\n",
       "    }\n",
       "</style>\n",
       "<table border=\"1\" class=\"dataframe\">\n",
       "  <thead>\n",
       "    <tr style=\"text-align: right;\">\n",
       "      <th></th>\n",
       "      <th>country</th>\n",
       "      <th>description</th>\n",
       "      <th>designation</th>\n",
       "      <th>points</th>\n",
       "      <th>price</th>\n",
       "      <th>province</th>\n",
       "      <th>region_1</th>\n",
       "      <th>region_2</th>\n",
       "      <th>variety</th>\n",
       "      <th>winery</th>\n",
       "    </tr>\n",
       "  </thead>\n",
       "  <tbody>\n",
       "    <tr>\n",
       "      <th>0</th>\n",
       "      <td>US</td>\n",
       "      <td>This tremendous 100% varietal wine hails from ...</td>\n",
       "      <td>Martha's Vineyard</td>\n",
       "      <td>96</td>\n",
       "      <td>235.0</td>\n",
       "      <td>California</td>\n",
       "      <td>Napa Valley</td>\n",
       "      <td>Napa</td>\n",
       "      <td>Cabernet Sauvignon</td>\n",
       "      <td>Heitz</td>\n",
       "    </tr>\n",
       "    <tr>\n",
       "      <th>1</th>\n",
       "      <td>Spain</td>\n",
       "      <td>Ripe aromas of fig, blackberry and cassis are ...</td>\n",
       "      <td>Carodorum Selección Especial Reserva</td>\n",
       "      <td>96</td>\n",
       "      <td>110.0</td>\n",
       "      <td>Northern Spain</td>\n",
       "      <td>Toro</td>\n",
       "      <td>NaN</td>\n",
       "      <td>Tinta de Toro</td>\n",
       "      <td>Bodega Carmen Rodríguez</td>\n",
       "    </tr>\n",
       "    <tr>\n",
       "      <th>...</th>\n",
       "      <td>...</td>\n",
       "      <td>...</td>\n",
       "      <td>...</td>\n",
       "      <td>...</td>\n",
       "      <td>...</td>\n",
       "      <td>...</td>\n",
       "      <td>...</td>\n",
       "      <td>...</td>\n",
       "      <td>...</td>\n",
       "      <td>...</td>\n",
       "    </tr>\n",
       "    <tr>\n",
       "      <th>150928</th>\n",
       "      <td>France</td>\n",
       "      <td>A perfect salmon shade, with scents of peaches...</td>\n",
       "      <td>Grand Brut Rosé</td>\n",
       "      <td>90</td>\n",
       "      <td>52.0</td>\n",
       "      <td>Champagne</td>\n",
       "      <td>Champagne</td>\n",
       "      <td>NaN</td>\n",
       "      <td>Champagne Blend</td>\n",
       "      <td>Gosset</td>\n",
       "    </tr>\n",
       "    <tr>\n",
       "      <th>150929</th>\n",
       "      <td>Italy</td>\n",
       "      <td>More Pinot Grigios should taste like this. A r...</td>\n",
       "      <td>NaN</td>\n",
       "      <td>90</td>\n",
       "      <td>15.0</td>\n",
       "      <td>Northeastern Italy</td>\n",
       "      <td>Alto Adige</td>\n",
       "      <td>NaN</td>\n",
       "      <td>Pinot Grigio</td>\n",
       "      <td>Alois Lageder</td>\n",
       "    </tr>\n",
       "  </tbody>\n",
       "</table>\n",
       "<p>150930 rows × 10 columns</p>\n",
       "</div>"
      ],
      "text/plain": [
       "       country                                        description  \\\n",
       "0           US  This tremendous 100% varietal wine hails from ...   \n",
       "1        Spain  Ripe aromas of fig, blackberry and cassis are ...   \n",
       "...        ...                                                ...   \n",
       "150928  France  A perfect salmon shade, with scents of peaches...   \n",
       "150929   Italy  More Pinot Grigios should taste like this. A r...   \n",
       "\n",
       "                                 designation  points  price  \\\n",
       "0                          Martha's Vineyard      96  235.0   \n",
       "1       Carodorum Selección Especial Reserva      96  110.0   \n",
       "...                                      ...     ...    ...   \n",
       "150928                       Grand Brut Rosé      90   52.0   \n",
       "150929                                   NaN      90   15.0   \n",
       "\n",
       "                  province     region_1 region_2             variety  \\\n",
       "0               California  Napa Valley     Napa  Cabernet Sauvignon   \n",
       "1           Northern Spain         Toro      NaN       Tinta de Toro   \n",
       "...                    ...          ...      ...                 ...   \n",
       "150928           Champagne    Champagne      NaN     Champagne Blend   \n",
       "150929  Northeastern Italy   Alto Adige      NaN        Pinot Grigio   \n",
       "\n",
       "                         winery  \n",
       "0                         Heitz  \n",
       "1       Bodega Carmen Rodríguez  \n",
       "...                         ...  \n",
       "150928                   Gosset  \n",
       "150929            Alois Lageder  \n",
       "\n",
       "[150930 rows x 10 columns]"
      ]
     },
     "execution_count": 2,
     "metadata": {},
     "output_type": "execute_result"
    }
   ],
   "source": [
    "reviews"
   ]
  },
  {
   "cell_type": "markdown",
   "metadata": {},
   "source": [
    "# Summary Funtions"
   ]
  },
  {
   "cell_type": "code",
   "execution_count": 3,
   "metadata": {},
   "outputs": [
    {
     "data": {
      "text/plain": [
       "count    150930.000000\n",
       "mean         87.888418\n",
       "             ...      \n",
       "75%          90.000000\n",
       "max         100.000000\n",
       "Name: points, Length: 8, dtype: float64"
      ]
     },
     "execution_count": 3,
     "metadata": {},
     "output_type": "execute_result"
    }
   ],
   "source": [
    "reviews.points.describe()"
   ]
  },
  {
   "cell_type": "markdown",
   "metadata": {},
   "source": [
    "The output above only makes sense for numerical data; for string data here's what we get"
   ]
  },
  {
   "cell_type": "code",
   "execution_count": 5,
   "metadata": {},
   "outputs": [
    {
     "data": {
      "text/plain": [
       "count         150925\n",
       "unique           455\n",
       "top       California\n",
       "freq           44508\n",
       "Name: province, dtype: object"
      ]
     },
     "execution_count": 5,
     "metadata": {},
     "output_type": "execute_result"
    }
   ],
   "source": [
    "reviews.province.describe()"
   ]
  },
  {
   "cell_type": "markdown",
   "metadata": {},
   "source": [
    "to see the mean of the points allotted (e.g. how well an averagely rated wine does), we can use the mean() function:"
   ]
  },
  {
   "cell_type": "code",
   "execution_count": 6,
   "metadata": {},
   "outputs": [
    {
     "data": {
      "text/plain": [
       "87.8884184721394"
      ]
     },
     "execution_count": 6,
     "metadata": {},
     "output_type": "execute_result"
    }
   ],
   "source": [
    "reviews.points.mean()"
   ]
  },
  {
   "cell_type": "markdown",
   "metadata": {},
   "source": [
    "To see a list of unique values we can use the unique() function:"
   ]
  },
  {
   "cell_type": "code",
   "execution_count": 7,
   "metadata": {},
   "outputs": [
    {
     "data": {
      "text/plain": [
       "array(['Cabernet Sauvignon', 'Tinta de Toro', 'Sauvignon Blanc',\n",
       "       'Pinot Noir', 'Provence red blend', 'Friulano', 'Tannat',\n",
       "       'Chardonnay', 'Tempranillo', 'Malbec', 'Rosé', 'Tempranillo Blend',\n",
       "       'Syrah', 'Mavrud', 'Sangiovese', 'Sparkling Blend',\n",
       "       'Rhône-style White Blend', 'Red Blend', 'Mencía', 'Palomino',\n",
       "       'Petite Sirah', 'Riesling', 'Cabernet Sauvignon-Syrah',\n",
       "       'Portuguese Red', 'Nebbiolo', 'Pinot Gris', 'Meritage', 'Baga',\n",
       "       'Glera', 'Malbec-Merlot', 'Merlot-Malbec', 'Ugni Blanc-Colombard',\n",
       "       'Viognier', 'Cabernet Sauvignon-Cabernet Franc', 'Moscato',\n",
       "       'Pinot Grigio', 'Cabernet Franc', 'White Blend', 'Monastrell',\n",
       "       'Gamay', 'Zinfandel', 'Greco', 'Barbera', 'Grenache',\n",
       "       'Rhône-style Red Blend', 'Albariño', 'Malvasia Bianca',\n",
       "       'Assyrtiko', 'Malagouzia', 'Carmenère', 'Bordeaux-style Red Blend',\n",
       "       'Touriga Nacional', 'Agiorgitiko', 'Picpoul', 'Godello',\n",
       "       'Gewürztraminer', 'Merlot', 'Syrah-Grenache', 'G-S-M', 'Mourvèdre',\n",
       "       'Bordeaux-style White Blend', 'Petit Verdot', 'Muscat',\n",
       "       'Chenin Blanc-Chardonnay', 'Cabernet Sauvignon-Merlot',\n",
       "       'Pinot Bianco', 'Alvarinho', 'Portuguese White', 'Garganega',\n",
       "       'Sauvignon', 'Gros and Petit Manseng', 'Tannat-Cabernet',\n",
       "       'Alicante Bouschet', 'Aragonês', 'Silvaner', 'Ugni Blanc',\n",
       "       'Grüner Veltliner', 'Frappato', 'Lemberger', 'Sylvaner',\n",
       "       'Chasselas', 'Alsace white blend', 'Früburgunder', 'Kekfrankos',\n",
       "       'Vermentino', 'Sherry', 'Aglianico', 'Torrontés', 'Primitivo',\n",
       "       'Semillon-Sauvignon Blanc', 'Portuguese Rosé', 'Grenache-Syrah',\n",
       "       'Prié Blanc', 'Negrette', 'Furmint', 'Carignane', 'Pinot Blanc',\n",
       "       \"Nero d'Avola\", 'St. Laurent', 'Blauburgunder', 'Blaufränkisch',\n",
       "       'Scheurebe', 'Ribolla Gialla', 'Charbono',\n",
       "       'Malbec-Cabernet Sauvignon', 'Pinot Noir-Gamay', 'Pinot Nero',\n",
       "       'Gros Manseng', 'Nerello Mascalese', 'Shiraz', 'Negroamaro',\n",
       "       'Champagne Blend', 'Romorantin', 'Syrah-Cabernet Sauvignon',\n",
       "       'Tannat-Merlot', 'Duras', 'Garnacha', 'Tinta Francisca',\n",
       "       'Portuguese Sparkling', 'Chenin Blanc', 'Turbiana',\n",
       "       'Petite Verdot', 'Posip', 'Fumé Blanc', 'Roussanne', 'Grillo',\n",
       "       'Müller-Thurgau', 'Pinot Auxerrois', 'Port', 'Cabernet Blend',\n",
       "       'Cabernet Franc-Cabernet Sauvignon', 'Castelão', 'Encruzado',\n",
       "       'Touriga Nacional-Cabernet Sauvignon', 'Colombard-Sauvignon Blanc',\n",
       "       'Moscatel', 'Marsanne', 'Siria', 'Garnacha Blanca',\n",
       "       'Merlot-Cabernet Sauvignon', 'Arinto', 'Petit Manseng', 'Loureiro',\n",
       "       'Melon', 'Carricante', 'Fiano', 'Schwartzriesling',\n",
       "       'Sangiovese-Syrah', 'Tannat-Cabernet Franc',\n",
       "       'Cabernet Franc-Merlot', 'Sauvignon Blanc-Semillon', 'Macabeo',\n",
       "       'Alfrocheiro', 'Aligoté', 'Verdejo', 'Grenache Blanc',\n",
       "       'Fernão Pires', 'Spätburgunder', 'Ciliegiolo',\n",
       "       'Cabernet Sauvignon-Carmenère', 'Auxerrois', 'Sirica', 'Zweigelt',\n",
       "       'Pugnitello', 'Rosado', 'Rosato', 'Malvazija', 'Kalecik Karasi',\n",
       "       'Muskat Ottonel', 'Malbec-Bonarda',\n",
       "       'Tempranillo-Cabernet Sauvignon', 'Rivaner', 'Trepat', 'Baco Noir',\n",
       "       'Trebbiano', 'Chardonnay-Viognier', 'Syrah-Mourvèdre', 'Graciano',\n",
       "       'Roviello', 'Perricone', 'Falanghina', 'Vranec', 'Carignan',\n",
       "       'Cabernet-Shiraz', 'Verdelho', 'Pedro Ximénez',\n",
       "       'Marsanne-Roussanne', 'Malbec Blend', 'Weissburgunder', 'Morava',\n",
       "       'Ruen', 'Hondarrabi Zuri', 'Catarratto',\n",
       "       'Chardonnay-Sauvignon Blanc', 'Vidal', 'Rieslaner', 'Dornfelder',\n",
       "       'Tinto Fino', 'Gelber Muskateller', 'Roter Veltliner', 'Aragonez',\n",
       "       'Vitovska', 'Pinot Noir-Syrah', 'Gamay Noir', 'Grauburgunder',\n",
       "       'Cannonau', 'Mauzac', 'Austrian Red Blend', 'Sémillon',\n",
       "       'Lambrusco di Sorbara', 'Teran', 'Dolcetto', 'Cinsault',\n",
       "       'Assyrtico', 'Teroldego', 'Tamjanika', 'Boğazkere', 'Kadarka',\n",
       "       'Narince', 'Malbec-Petit Verdot', 'Veltliner', 'Traminer',\n",
       "       'Lambrusco', 'Arneis', 'Cabernet Sauvignon-Shiraz',\n",
       "       'Tocai Friulano', 'Fer Servadou', 'Muskateller',\n",
       "       'Nerello Cappuccio', 'Moscatel Roxo', 'Elbling', 'Saperavi',\n",
       "       'Antão Vaz', 'Pinot Meunier', 'Petite Syrah', 'Malvasia',\n",
       "       'Malbec-Tannat', 'Kallmet', 'Syrah-Merlot', 'Montepulciano',\n",
       "       'Kerner', 'Alvarinho-Chardonnay', 'Žilavka', 'Vinhão',\n",
       "       'Chardonnay-Semillon', 'Carmenère-Cabernet Sauvignon',\n",
       "       'Merlot-Cabernet Franc', 'Orangetraube',\n",
       "       'Cabernet Sauvignon-Sangiovese', 'Okuzgozu', 'Viura',\n",
       "       'Garnacha-Syrah', 'Zibibbo', 'Feteasca', 'Xarel-lo', 'Prokupac',\n",
       "       'Códega do Larinho', 'Touriga Nacional Blend', 'Inzolia',\n",
       "       'Cabernet-Syrah', 'Lambrusco Grasparossa', 'Malagousia',\n",
       "       'Cabernet Franc-Malbec', 'Feteasca Neagra', 'Yapincak',\n",
       "       'Tempranillo-Shiraz', 'Cabernet Sauvignon Grenache', 'Tinta Roriz',\n",
       "       'Merlot-Syrah', 'Tinta Fina', 'Colombard-Ugni Blanc', 'Colombard',\n",
       "       'Roditis', 'Grenache-Carignan', 'Emir', 'Orange Muscat',\n",
       "       'Karalahna', 'Trincadeira', 'Refosco', 'Pied de Perdrix',\n",
       "       'Vignoles', 'Carignan-Grenache', \"Muscat d'Alexandrie\", 'Bobal',\n",
       "       'Symphony', 'Norton', 'Sauvignon Blanc-Sauvignon Gris',\n",
       "       'Rkatsiteli', 'Roussanne-Viognier', 'Pinela', 'Blatina',\n",
       "       'Shiraz-Viognier', 'Bonarda', 'Sauvignon Blanc-Chardonnay',\n",
       "       'Chambourcin', 'Traminette', 'Grenache Blend', 'Jaen', 'Mondeuse',\n",
       "       'Feteascǎ Regalǎ', 'Teroldego Rotaliano',\n",
       "       'Sangiovese-Cabernet Sauvignon', 'Listán Negro',\n",
       "       'Syrah-Petite Sirah', 'Viognier-Chardonnay', 'Kuntra', 'Jacquère',\n",
       "       'Portuguiser', 'Grecanico', 'Verdejo-Viura', 'Tinto del Pais',\n",
       "       'Moscato Giallo', 'Cabernet Sauvignon-Malbec', 'Mission',\n",
       "       'Neuburger', 'Bastardo', 'Bical', 'Sacy', 'Carineña',\n",
       "       'Garnacha-Tempranillo', 'Pecorino', 'Garnacha Blend', 'Cococciola',\n",
       "       'Passerina', 'Gaglioppo', 'Garnacha Tintorera', 'Prieto Picudo',\n",
       "       'Tempranillo Blanco', \"Cesanese d'Affile\", 'Muscat Canelli',\n",
       "       'Cabernet', 'Malvasia Nera', 'Premsal', 'Mansois',\n",
       "       'Welschriesling', 'Shiraz-Tempranillo', 'Verdicchio', 'Sagrantino',\n",
       "       'Rolle', 'Trousseau Gris', 'Counoise', 'Mantonico',\n",
       "       'Cariñena-Garnacha', 'Insolia', 'Tokaji', 'Austrian white blend',\n",
       "       'Shiraz-Grenache', 'Claret', 'Syrah-Tempranillo', 'Uva di Troia',\n",
       "       'Aleatico', 'Piedirosso', 'Viognier-Marsanne',\n",
       "       'Pinot Grigio-Sauvignon Blanc', 'Pallagrello Nero',\n",
       "       'Chardonnay-Albariño', 'Savagnin', 'Pinotage', 'Braucol',\n",
       "       'Moschofilero', 'Nero di Troia', 'Carignano', 'Susumaniello',\n",
       "       'Baga-Touriga Nacional', 'Vidal Blanc', 'Vernaccia',\n",
       "       'Corvina, Rondinella, Molinara', 'Mavrotragano',\n",
       "       'Garnacha-Monastrell', 'Lagrein', 'Cabernet Merlot',\n",
       "       'Monastrell-Syrah', 'Malbec-Tempranillo', 'Syrah-Viognier',\n",
       "       'Verdeca', 'Sangiovese Grosso', 'Merlot-Argaman',\n",
       "       'Chenin Blanc-Viognier', 'Garnacha-Cabernet', 'Maturana', 'Malvar',\n",
       "       'Airen', 'Monica', 'Gewürztraminer-Riesling', 'Prugnolo Gentile',\n",
       "       'Steen', 'Chenin Blanc-Sauvignon Blanc',\n",
       "       'Shiraz-Cabernet Sauvignon', 'Picolit', 'Prosecco',\n",
       "       'White Riesling', 'White Port', 'Zierfandler', 'Petroulianos',\n",
       "       'Mavrodaphne', 'Savatiano', 'Tempranillo-Garnacha', 'Vidadillo',\n",
       "       'Syrah-Cabernet', 'Gelber Traminer', 'Grenache-Shiraz',\n",
       "       'Rotgipfler', 'Cabernet Sauvignon-Tempranillo', 'Edelzwicker',\n",
       "       'Cortese', 'Chardonnay Weissburgunder', 'Torbato', 'Verduzzo',\n",
       "       'Debit', 'Bovale', 'Tempranillo-Merlot', 'Xinisteri',\n",
       "       'Merlot-Cabernet', 'Verdejo-Sauvignon Blanc', 'Black Muscat',\n",
       "       'Koshu', 'Királyleányka', 'Favorita', 'Xinomavro',\n",
       "       'Cserszegi Fűszeres', 'Hárslevelü', 'Pallagrello', 'Mavroudi',\n",
       "       'Muscat Blanc', 'Schiava', 'Meoru', 'Nuragus',\n",
       "       'Trebbiano di Lugana', 'Coda di Volpe', 'Raboso',\n",
       "       'Shiraz-Pinotage', 'Enantio', 'Greco Bianco', 'Tai', 'Tokay',\n",
       "       'Muscadel', 'Cabernet Franc-Carmenère', 'Tintilia ', 'Segalin',\n",
       "       'Lacrima', 'Cerceal', 'Cayuga', 'Sauvignon Gris', 'Albana',\n",
       "       'Corvina', 'Macabeo-Moscatel', 'Macabeo-Chardonnay', 'Moscadello',\n",
       "       'Nasco', 'Viognier-Roussanne', 'Plavac Mali',\n",
       "       'Cabernet Sauvignon-Merlot-Shiraz', 'Sauvignon Blanc-Chenin Blanc',\n",
       "       'Shiraz-Mourvèdre', 'Albarín', 'Black Monukka', 'Morio Muskat',\n",
       "       'Nielluciu', 'Alicante', 'Cabernet Sauvignon and Tinta Roriz',\n",
       "       'Viura-Chardonnay', \"Loin de l'Oeil\", 'Roter Traminer',\n",
       "       'Karasakiz', 'Casavecchia', 'Malvasia-Viura', 'Nosiola',\n",
       "       'Incrocio Manzoni', 'Viura-Verdejo', 'Erbaluce', 'Forcallà',\n",
       "       'Pansa Blanca', 'Catalanesca', 'Muscadelle', 'Malbec-Syrah',\n",
       "       'Petit Meslier', 'Johannisberg Riesling', 'Pignoletto',\n",
       "       'Cabernet Pfeffer', 'Syrah-Cabernet Franc', 'Valdiguié', 'Mazuelo',\n",
       "       'Brachetto', 'Jacquez', 'Moscofilero', 'Chardonnay-Sauvignon',\n",
       "       'Madeleine Angevine', 'Ruché', 'Merlot-Petite Verdot',\n",
       "       'Roussanne-Marsanne', 'Moscatel de Alejandría',\n",
       "       'Muscat Blanc à Petit Grain', 'Sämling', 'Mtsvane', 'Zlahtina',\n",
       "       'Zelen', 'Doña Blanca', 'Carmenère-Syrah',\n",
       "       'Roussanne-Grenache Blanc', 'Kinali Yapincak', 'Robola',\n",
       "       'Pinot Blanc-Chardonnay', 'Chardonnay-Pinot Blanc',\n",
       "       'Saperavi-Merlot', 'Malvasia Istriana', 'Torontel', 'Picapoll',\n",
       "       'Zierfandler-Rotgipfler', 'Malvasia Fina', 'Chinuri', 'Muscatel',\n",
       "       'Sousão', 'Silvaner-Traminer', 'Syrah-Carignan', 'Bukettraube',\n",
       "       'Muskat', 'Argaman', 'Provence white blend', 'Touriga Franca',\n",
       "       'Morillon', 'Carignan-Syrah', 'Aidani', 'Viognier-Grenache Blanc',\n",
       "       'Albarossa', 'Sauvignon Blanc-Verdejo', 'Grenache-Mourvèdre',\n",
       "       'Tannat-Syrah', 'Seyval Blanc', 'Tocai Rosso', 'Pinot-Chardonnay',\n",
       "       'Moscatel Graúdo', 'Pigato', 'Siegerrebe', 'Bombino Bianco',\n",
       "       'Trebbiano-Malvasia', 'Magliocco', 'Verduzzo Friulano ',\n",
       "       'Vespaiolo', 'Marzemino', 'Tempranillo-Malbec', 'Crespiello',\n",
       "       'Cabernet Franc-Tempranillo', 'Gouveio', 'Caprettone',\n",
       "       'Garnacha-Graciano', 'Mataro', \"Pineau d'Aunis\", 'Bual', 'Sercial',\n",
       "       'Moscato di Noto', 'Sauvignonasse', 'Madeira Blend', 'St. George',\n",
       "       'Rebula', 'Pallagrello Bianco', 'Vilana', 'Pelaverga Piccolo',\n",
       "       'Syrah-Grenache-Viognier', 'Alvarelhão', 'Durif', 'Angevine',\n",
       "       'Semillon-Chardonnay', 'Pinot Blanc-Pinot Noir', 'Manzoni',\n",
       "       'Maréchal Foch', 'Blauer Portugieser', 'Tocai', 'Shiraz-Malbec',\n",
       "       'Cabernet Moravia', 'Espadeiro', 'País', 'Altesse', 'Avesso',\n",
       "       'Grignolino', 'Mandilaria', 'Freisa', 'Merlot-Shiraz', 'Dafni',\n",
       "       'Xynisteri', 'Grechetto', 'Roscetto', 'Sideritis',\n",
       "       'Pinotage-Merlot', 'Asprinio', 'Grolleau', 'Gragnano', 'Ansonica',\n",
       "       'Sangiovese Cabernet', 'Tinta Barroca', 'Syrah-Bonarda',\n",
       "       'Marsanne-Viognier', 'Azal', 'Durello', 'Syrah-Malbec',\n",
       "       'Malbec-Cabernet Franc', 'Franconia', 'Rufete', 'Parraleta',\n",
       "       'St. Vincent', 'Groppello', 'Athiri', 'Muscat of Alexandria',\n",
       "       'Malvoisie', 'Colorino', 'Merlot-Grenache', 'Terret Blanc',\n",
       "       'Chardonel', 'Macabeo-Gewürztraminer', 'Grenache Gris', 'Rabigato',\n",
       "       'Muscat Hamburg', 'Sarba', 'Irsai Oliver', 'Chardonnay-Pinot Gris',\n",
       "       'Vermentino Nero', 'Pardina', 'Apple', 'Clairette',\n",
       "       'Sauvignon Musqué', 'Shiraz-Merlot', 'Viognier-Valdiguié',\n",
       "       'Chardonelle', 'Malmsey', 'Tinta Negra Mole',\n",
       "       'Pinot Grigio-Chardonnay', 'Muscadet', 'Viura-Sauvignon Blanc',\n",
       "       'Huxelrebe', 'Tokay Pinot Gris', 'Chardonnay-Pinot Grigio',\n",
       "       'Moristel', 'Carnelian'], dtype=object)"
      ]
     },
     "execution_count": 7,
     "metadata": {},
     "output_type": "execute_result"
    }
   ],
   "source": [
    "reviews.variety.unique()"
   ]
  },
  {
   "cell_type": "markdown",
   "metadata": {},
   "source": [
    "To see a list of unique values and how often they occur in the dataset, we can use the value_counts() method:"
   ]
  },
  {
   "cell_type": "code",
   "execution_count": 8,
   "metadata": {},
   "outputs": [
    {
     "data": {
      "text/plain": [
       "variety\n",
       "Chardonnay        14482\n",
       "Pinot Noir        14291\n",
       "                  ...  \n",
       "Syrah-Carignan        1\n",
       "Carnelian             1\n",
       "Name: count, Length: 632, dtype: int64"
      ]
     },
     "execution_count": 8,
     "metadata": {},
     "output_type": "execute_result"
    }
   ],
   "source": [
    "reviews.variety.value_counts()"
   ]
  },
  {
   "cell_type": "markdown",
   "metadata": {},
   "source": [
    "# Maps\n",
    "\n",
    "A map is a term, borrowed from mathematics, for a function that takes one set of values and \"maps\" them to another set of values. In data science we often have a need for creating new representations from existing data, or for transforming data from the format it is in now to the format that we want it to be in later.\n",
    "\n",
    "There are two mapping methods that you will use often.\n",
    "\n",
    "map() is the first, and slightly simpler one. For example, suppose that we wanted to remean the scores the wines received to 0. We can do this as follows:"
   ]
  },
  {
   "cell_type": "markdown",
   "metadata": {},
   "source": [
    "The code shows how to center wine review scores around 0 (a common statistical technique called mean centering). Let's go through it step by step:"
   ]
  },
  {
   "cell_type": "markdown",
   "metadata": {},
   "source": [
    "### (Note: this 'centering' transformation is a common preprocessing step before applying various machine learning algorithms.)"
   ]
  },
  {
   "cell_type": "code",
   "execution_count": 9,
   "metadata": {},
   "outputs": [],
   "source": [
    "review_points_mean = reviews.points.mean()"
   ]
  },
  {
   "cell_type": "markdown",
   "metadata": {},
   "source": [
    "This calculates the average (mean) of all wine review scores in the points column\n",
    "The result is stored in review_points_mean"
   ]
  },
  {
   "cell_type": "code",
   "execution_count": 10,
   "metadata": {},
   "outputs": [
    {
     "data": {
      "text/plain": [
       "0         8.111582\n",
       "1         8.111582\n",
       "            ...   \n",
       "150928    2.111582\n",
       "150929    2.111582\n",
       "Name: points, Length: 150930, dtype: float64"
      ]
     },
     "execution_count": 10,
     "metadata": {},
     "output_type": "execute_result"
    }
   ],
   "source": [
    "reviews.points.map(lambda p: p - review_points_mean)"
   ]
  },
  {
   "cell_type": "markdown",
   "metadata": {},
   "source": [
    "map() applies a function to every element in a series\n",
    "Here, it uses a lambda function (a small anonymous function) that takes each score p and subtracts the mean from it\n",
    "The result would be scores centered around 0: positive numbers for above-average scores and negative numbers for below-average scores\n",
    "\n",
    "For example, if:\n",
    "\n",
    "The mean score was 88\n",
    "Original scores were [90, 85, 88]\n",
    "After mapping: [2, -3, 0]"
   ]
  },
  {
   "cell_type": "markdown",
   "metadata": {},
   "source": [
    "##### apply() is the equivalent method if we want to transform a whole DataFrame by calling a custom method on each row.\n",
    "\n",
    "This achieves the same result as the map() example we discussed earlier, but apply() is more flexible because:\n",
    "\n",
    "It can access multiple columns at once\n",
    "It can perform more complex operations\n",
    "It can modify multiple values in the row\n",
    "It can include more sophisticated logic"
   ]
  },
  {
   "cell_type": "code",
   "execution_count": 11,
   "metadata": {},
   "outputs": [
    {
     "data": {
      "text/html": [
       "<div>\n",
       "<style scoped>\n",
       "    .dataframe tbody tr th:only-of-type {\n",
       "        vertical-align: middle;\n",
       "    }\n",
       "\n",
       "    .dataframe tbody tr th {\n",
       "        vertical-align: top;\n",
       "    }\n",
       "\n",
       "    .dataframe thead th {\n",
       "        text-align: right;\n",
       "    }\n",
       "</style>\n",
       "<table border=\"1\" class=\"dataframe\">\n",
       "  <thead>\n",
       "    <tr style=\"text-align: right;\">\n",
       "      <th></th>\n",
       "      <th>country</th>\n",
       "      <th>description</th>\n",
       "      <th>designation</th>\n",
       "      <th>points</th>\n",
       "      <th>price</th>\n",
       "      <th>province</th>\n",
       "      <th>region_1</th>\n",
       "      <th>region_2</th>\n",
       "      <th>variety</th>\n",
       "      <th>winery</th>\n",
       "    </tr>\n",
       "  </thead>\n",
       "  <tbody>\n",
       "    <tr>\n",
       "      <th>0</th>\n",
       "      <td>US</td>\n",
       "      <td>This tremendous 100% varietal wine hails from ...</td>\n",
       "      <td>Martha's Vineyard</td>\n",
       "      <td>8.111582</td>\n",
       "      <td>235.0</td>\n",
       "      <td>California</td>\n",
       "      <td>Napa Valley</td>\n",
       "      <td>Napa</td>\n",
       "      <td>Cabernet Sauvignon</td>\n",
       "      <td>Heitz</td>\n",
       "    </tr>\n",
       "    <tr>\n",
       "      <th>1</th>\n",
       "      <td>Spain</td>\n",
       "      <td>Ripe aromas of fig, blackberry and cassis are ...</td>\n",
       "      <td>Carodorum Selección Especial Reserva</td>\n",
       "      <td>8.111582</td>\n",
       "      <td>110.0</td>\n",
       "      <td>Northern Spain</td>\n",
       "      <td>Toro</td>\n",
       "      <td>NaN</td>\n",
       "      <td>Tinta de Toro</td>\n",
       "      <td>Bodega Carmen Rodríguez</td>\n",
       "    </tr>\n",
       "    <tr>\n",
       "      <th>...</th>\n",
       "      <td>...</td>\n",
       "      <td>...</td>\n",
       "      <td>...</td>\n",
       "      <td>...</td>\n",
       "      <td>...</td>\n",
       "      <td>...</td>\n",
       "      <td>...</td>\n",
       "      <td>...</td>\n",
       "      <td>...</td>\n",
       "      <td>...</td>\n",
       "    </tr>\n",
       "    <tr>\n",
       "      <th>150928</th>\n",
       "      <td>France</td>\n",
       "      <td>A perfect salmon shade, with scents of peaches...</td>\n",
       "      <td>Grand Brut Rosé</td>\n",
       "      <td>2.111582</td>\n",
       "      <td>52.0</td>\n",
       "      <td>Champagne</td>\n",
       "      <td>Champagne</td>\n",
       "      <td>NaN</td>\n",
       "      <td>Champagne Blend</td>\n",
       "      <td>Gosset</td>\n",
       "    </tr>\n",
       "    <tr>\n",
       "      <th>150929</th>\n",
       "      <td>Italy</td>\n",
       "      <td>More Pinot Grigios should taste like this. A r...</td>\n",
       "      <td>NaN</td>\n",
       "      <td>2.111582</td>\n",
       "      <td>15.0</td>\n",
       "      <td>Northeastern Italy</td>\n",
       "      <td>Alto Adige</td>\n",
       "      <td>NaN</td>\n",
       "      <td>Pinot Grigio</td>\n",
       "      <td>Alois Lageder</td>\n",
       "    </tr>\n",
       "  </tbody>\n",
       "</table>\n",
       "<p>150930 rows × 10 columns</p>\n",
       "</div>"
      ],
      "text/plain": [
       "       country                                        description  \\\n",
       "0           US  This tremendous 100% varietal wine hails from ...   \n",
       "1        Spain  Ripe aromas of fig, blackberry and cassis are ...   \n",
       "...        ...                                                ...   \n",
       "150928  France  A perfect salmon shade, with scents of peaches...   \n",
       "150929   Italy  More Pinot Grigios should taste like this. A r...   \n",
       "\n",
       "                                 designation    points  price  \\\n",
       "0                          Martha's Vineyard  8.111582  235.0   \n",
       "1       Carodorum Selección Especial Reserva  8.111582  110.0   \n",
       "...                                      ...       ...    ...   \n",
       "150928                       Grand Brut Rosé  2.111582   52.0   \n",
       "150929                                   NaN  2.111582   15.0   \n",
       "\n",
       "                  province     region_1 region_2             variety  \\\n",
       "0               California  Napa Valley     Napa  Cabernet Sauvignon   \n",
       "1           Northern Spain         Toro      NaN       Tinta de Toro   \n",
       "...                    ...          ...      ...                 ...   \n",
       "150928           Champagne    Champagne      NaN     Champagne Blend   \n",
       "150929  Northeastern Italy   Alto Adige      NaN        Pinot Grigio   \n",
       "\n",
       "                         winery  \n",
       "0                         Heitz  \n",
       "1       Bodega Carmen Rodríguez  \n",
       "...                         ...  \n",
       "150928                   Gosset  \n",
       "150929            Alois Lageder  \n",
       "\n",
       "[150930 rows x 10 columns]"
      ]
     },
     "execution_count": 11,
     "metadata": {},
     "output_type": "execute_result"
    }
   ],
   "source": [
    "def remean_points(row):\n",
    "  row.points = row.points - review_points_mean\n",
    "  return row\n",
    "\n",
    "reviews.apply(remean_points, axis='columns')"
   ]
  },
  {
   "cell_type": "markdown",
   "metadata": {},
   "source": [
    "Note that map() and apply() return new, transformed Series and DataFrames, respectively."
   ]
  },
  {
   "cell_type": "code",
   "execution_count": 12,
   "metadata": {},
   "outputs": [
    {
     "data": {
      "text/html": [
       "<div>\n",
       "<style scoped>\n",
       "    .dataframe tbody tr th:only-of-type {\n",
       "        vertical-align: middle;\n",
       "    }\n",
       "\n",
       "    .dataframe tbody tr th {\n",
       "        vertical-align: top;\n",
       "    }\n",
       "\n",
       "    .dataframe thead th {\n",
       "        text-align: right;\n",
       "    }\n",
       "</style>\n",
       "<table border=\"1\" class=\"dataframe\">\n",
       "  <thead>\n",
       "    <tr style=\"text-align: right;\">\n",
       "      <th></th>\n",
       "      <th>country</th>\n",
       "      <th>description</th>\n",
       "      <th>designation</th>\n",
       "      <th>points</th>\n",
       "      <th>price</th>\n",
       "      <th>province</th>\n",
       "      <th>region_1</th>\n",
       "      <th>region_2</th>\n",
       "      <th>variety</th>\n",
       "      <th>winery</th>\n",
       "    </tr>\n",
       "  </thead>\n",
       "  <tbody>\n",
       "    <tr>\n",
       "      <th>0</th>\n",
       "      <td>US</td>\n",
       "      <td>This tremendous 100% varietal wine hails from ...</td>\n",
       "      <td>Martha's Vineyard</td>\n",
       "      <td>96</td>\n",
       "      <td>235.0</td>\n",
       "      <td>California</td>\n",
       "      <td>Napa Valley</td>\n",
       "      <td>Napa</td>\n",
       "      <td>Cabernet Sauvignon</td>\n",
       "      <td>Heitz</td>\n",
       "    </tr>\n",
       "  </tbody>\n",
       "</table>\n",
       "</div>"
      ],
      "text/plain": [
       "  country                                        description  \\\n",
       "0      US  This tremendous 100% varietal wine hails from ...   \n",
       "\n",
       "         designation  points  price    province     region_1 region_2  \\\n",
       "0  Martha's Vineyard      96  235.0  California  Napa Valley     Napa   \n",
       "\n",
       "              variety winery  \n",
       "0  Cabernet Sauvignon  Heitz  "
      ]
     },
     "execution_count": 12,
     "metadata": {},
     "output_type": "execute_result"
    }
   ],
   "source": [
    "reviews.head(1)"
   ]
  },
  {
   "cell_type": "markdown",
   "metadata": {},
   "source": [
    "here's a faster way of remeaning our points column:"
   ]
  },
  {
   "cell_type": "code",
   "execution_count": 13,
   "metadata": {},
   "outputs": [
    {
     "data": {
      "text/plain": [
       "0         8.111582\n",
       "1         8.111582\n",
       "            ...   \n",
       "150928    2.111582\n",
       "150929    2.111582\n",
       "Name: points, Length: 150930, dtype: float64"
      ]
     },
     "execution_count": 13,
     "metadata": {},
     "output_type": "execute_result"
    }
   ],
   "source": [
    "review_points_mean = reviews.points.mean()\n",
    "reviews.points - review_points_mean"
   ]
  },
  {
   "cell_type": "markdown",
   "metadata": {},
   "source": [
    "an easy way of combining country and region information in the dataset would be to do the following:"
   ]
  },
  {
   "cell_type": "code",
   "execution_count": 14,
   "metadata": {},
   "outputs": [
    {
     "data": {
      "text/plain": [
       "0           US - Napa Valley\n",
       "1               Spain - Toro\n",
       "                 ...        \n",
       "150928    France - Champagne\n",
       "150929    Italy - Alto Adige\n",
       "Length: 150930, dtype: object"
      ]
     },
     "execution_count": 14,
     "metadata": {},
     "output_type": "execute_result"
    }
   ],
   "source": [
    "reviews.country + \" - \" + reviews.region_1"
   ]
  },
  {
   "cell_type": "markdown",
   "metadata": {},
   "source": [
    "These operators are faster than map() or apply() because they use speed ups built into pandas. All of the standard Python operators (>, <, ==, and so on) work in this manner."
   ]
  },
  {
   "cell_type": "markdown",
   "metadata": {},
   "source": [
    "**I'm an economical wine buyer. Which wine is the \"best bargain\"? Create a variable bargain_wine with the title of the wine with the highest points-to-price ratio in the dataset.**"
   ]
  },
  {
   "cell_type": "markdown",
   "metadata": {},
   "source": [
    "idxmax() returns the index (row number) where this ratio is highest"
   ]
  },
  {
   "cell_type": "code",
   "execution_count": 18,
   "metadata": {},
   "outputs": [],
   "source": [
    "bargain_idx = (reviews.points / reviews.price).idxmax()\n",
    "bargain_wine = reviews.loc[bargain_idx, 'winery']"
   ]
  },
  {
   "cell_type": "code",
   "execution_count": 19,
   "metadata": {},
   "outputs": [
    {
     "data": {
      "text/plain": [
       "'Bandit'"
      ]
     },
     "execution_count": 19,
     "metadata": {},
     "output_type": "execute_result"
    }
   ],
   "source": [
    "bargain_wine"
   ]
  },
  {
   "cell_type": "markdown",
   "metadata": {},
   "source": [
    "**no times fig and blackberry apears in description**"
   ]
  },
  {
   "cell_type": "code",
   "execution_count": 23,
   "metadata": {},
   "outputs": [
    {
     "data": {
      "text/plain": [
       "fig            1951\n",
       "blackberry    14518\n",
       "dtype: int64"
      ]
     },
     "execution_count": 23,
     "metadata": {},
     "output_type": "execute_result"
    }
   ],
   "source": [
    "n_fig = reviews.description.map(lambda desc: \"fig\" in desc).sum()\n",
    "n_blackb = reviews.description.map(lambda desc: \"blackberry\" in desc).sum()\n",
    "description_counts = pd.Series([n_fig, n_blackb], index=['fig', 'blackberry'])\n",
    "description_counts"
   ]
  },
  {
   "cell_type": "markdown",
   "metadata": {},
   "source": [
    "**above 95 is 5 stars, 85 to 95 is 4 stars, 65 to 85 is 3 stars, bellow 65 is 1 stars and if from france 5 stars.**"
   ]
  },
  {
   "cell_type": "code",
   "execution_count": 25,
   "metadata": {},
   "outputs": [
    {
     "data": {
      "text/plain": [
       "0         5\n",
       "1         5\n",
       "         ..\n",
       "150928    5\n",
       "150929    4\n",
       "Length: 150930, dtype: int64"
      ]
     },
     "execution_count": 25,
     "metadata": {},
     "output_type": "execute_result"
    }
   ],
   "source": [
    "def stars(row):\n",
    "  if row.country == 'France':\n",
    "    return 5\n",
    "  elif row.points >= 95:\n",
    "    return 5\n",
    "  elif row.points >= 85:\n",
    "    return 4\n",
    "  elif row.points >= 65:\n",
    "    return 3\n",
    "  else:\n",
    "    return 1\n",
    "\n",
    "# creating series out of the data\n",
    "star_ratings = reviews.apply(stars, axis='columns')\n",
    "star_ratings"
   ]
  }
 ],
 "metadata": {
  "kernelspec": {
   "display_name": "Python 3",
   "language": "python",
   "name": "python3"
  },
  "language_info": {
   "codemirror_mode": {
    "name": "ipython",
    "version": 3
   },
   "file_extension": ".py",
   "mimetype": "text/x-python",
   "name": "python",
   "nbconvert_exporter": "python",
   "pygments_lexer": "ipython3",
   "version": "3.12.6"
  }
 },
 "nbformat": 4,
 "nbformat_minor": 2
}
